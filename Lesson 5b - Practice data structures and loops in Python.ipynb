{
 "cells": [
  {
   "cell_type": "markdown",
   "metadata": {},
   "source": [
    "# Practice data structures\n",
    "\n",
    "We will create a data structure to hold our Germplasm data (I have updated it to be a little bit more complex... now a germplasm may hold TWO alleles - i.e. one germplasm has connections to more than one gene)\n",
    "\n",
    "Represent these data in Python - create a **single variable** that contains all of this data (using lists and dictionaries).\n",
    "\n",
    "Create loops over that data structure that can print the three tables to the screen.\n",
    "\n",
    "\n",
    "\n"
   ]
  },
  {
   "cell_type": "markdown",
   "metadata": {},
   "source": [
    "\n",
    "\n",
    "<center>stock table</center>\n",
    "\n",
    "germplasm_id |  amount  |  date  |  location  \n",
    " --- | --- | --- | --- \n",
    " 2 |  5  | 10/5/2013 |  Room 2234  \n",
    " 1 | 9.8  | 12/1/2015 |  Room 998  \n",
    "\n",
    "\n",
    "-----------------------------\n",
    "\n",
    "\n",
    "<center>germplasm table</center>\n",
    "\n",
    "id |  taxonid  |  alleles | genes \n",
    " --- |--- | --- | ---\n",
    " 1 |  4150  | def-1 | DEF\n",
    " 2 | 3701  | ap3,  ag | AP3, AG\n",
    "  \n",
    "--------------------------------\n",
    "\n",
    "<center>gene table</center>\n",
    "\n",
    "  gene  |  gene_name  |  embl\n",
    " --- | ---  | --- \n",
    "  DEF  | Deficiens  | https://www.ebi.ac.uk/ena/data/view/AB516402\n",
    "  AP3  | Apetala3   |   https://www.ebi.ac.uk/ena/data/view/AF056541\n",
    "  AG  | Agamous   |   https://www.ebi.ac.uk/ena/data/view/AL161549\n",
    "  "
   ]
  },
  {
   "cell_type": "code",
   "execution_count": 4,
   "metadata": {},
   "outputs": [
    {
     "name": "stdout",
     "output_type": "stream",
     "text": [
      "este es el dicionario: ----> {'gene Table': {'gene': ['DEF', 'AP3', 'AG'], 'gene_name': ['deficiens', 'apetala3', 'Agamous'], 'embl': ['h1', 'h2', 'h3']}, 'germplasm table': {'gp_id': [1, 2], 'taxonid': [4150, 3701], 'alleles': ['def-1', ['ap3', 'ag']], 'genes': ['DEF', ['AP3', 'AG']]}, 'stock table': {'gp_id': [2, 1], 'amount': [5, 9.8], 'date': ['10/05/13', '12/01/15'], 'location': ['room2234', 'room 998']}}\n",
      "\n",
      "{'gene': ['DEF', 'AP3', 'AG'], 'gene_name': ['deficiens', 'apetala3', 'Agamous'], 'embl': ['h1', 'h2', 'h3']}\n",
      "{'gp_id': [1, 2], 'taxonid': [4150, 3701], 'alleles': ['def-1', ['ap3', 'ag']], 'genes': ['DEF', ['AP3', 'AG']]}\n",
      "{'gp_id': [2, 1], 'amount': [5, 9.8], 'date': ['10/05/13', '12/01/15'], 'location': ['room2234', 'room 998']}\n"
     ]
    }
   ],
   "source": [
    "# put your code here... take it one step at a time!\n",
    "# do just one tabl\n",
    "gp={\"gp_id\":[1,2],\"taxonid\":[4150,3701],\"alleles\":[\"def-1\",[\"ap3\",\"ag\"]],\"genes\":[\"DEF\",[\"AP3\",\"AG\"]]}\n",
    "\n",
    "gene={\"gene\":[\"DEF\",\"AP3\",\"AG\"],\"gene_name\":[\"deficiens\",\"apetala3\",\"Agamous\"],\"embl\":[\"h1\",\"h2\",\"h3\"]}\n",
    "stock={\"gp_id\":[2,1],\"amount\":[5,9.8],\"date\":[\"10/05/13\",\"12/01/15\"],\"location\":[\"room 2234\",\"room 998\"]}\n",
    "\n",
    "dic={\"gene Table\":gene,\"germplasm table\":gp,\"stock table\":stock}\n",
    "print(\"este es el dicionario: ----> \" + str(dic))\n",
    "print(\"\")\n",
    "for h in dic.keys():\n",
    "    print(dic[h])"
   ]
  },
  {
   "cell_type": "markdown",
   "metadata": {},
   "source": [
    " <pre>  </pre>"
   ]
  },
  {
   "cell_type": "code",
   "execution_count": 5,
   "metadata": {},
   "outputs": [],
   "source": [
    "stock={1:{\"amount\":5,\"date\":\"10/05/2013\",\"location\":\"Room 2234\"}}\n",
    "gene={\"DEF\":{\"name\":\"deficiens\",\"embl\":\"h1\"},\"AP3\":{\"name\":\"apetala\",\"embl\":\"h2\"},\"AG\":{\"name\":\"agamois\",\"embl\":\"h3\"}}\n",
    "germpl ={2:{\"taxon\":3701,\"alelles\":[\"ap3\",\"ag\"],\"genes\":[gene[\"AP3\"],gene[\"AG\"]]}}\n"
   ]
  },
  {
   "cell_type": "markdown",
   "metadata": {},
   "source": [
    "<span style=\"visibility:hidden;\">\n",
    "DEF = {'id': 'DEF', 'name': 'Deficiens', 'embl': 'http://AB123434'}\n",
    "AP3 = {'id': 'AP3', 'name': 'Apetala3', 'embl': 'http://AB123434'}\n",
    "AG = {'id': 'AG', 'name': 'Agamous', 'embl': 'http://AB123434'}\n",
    "gp1 = {'id': 1, 'taxon': 4150, 'alleles': ['def1'], 'genes': [DEF]}\n",
    "gp2 = {'id': 2, 'taxon': 4150, 'alleles': ['ap3', 'ag'], 'genes': [AP3, AG]}\n",
    "stock1 = {'germplasm': gp2, 'amount': 5, 'date': '10/5/2013', 'location': 'Room 2234' }\n",
    "stock2 = {'germplasm': gp1, 'amount': 9.8, 'date': '12/1/2015', 'location': 'Room 998' }\n",
    "database = [stock1, stock2]\n",
    "for stock in database:\n",
    "    print(stock['germplasm']['id'], \", \", stock['amount'],\",\",stock['date'],\",\",stock['location'])\n",
    "</span>"
   ]
  }
 ],
 "metadata": {
  "kernelspec": {
   "display_name": "Python 3",
   "language": "python",
   "name": "python3"
  },
  "language_info": {
   "codemirror_mode": {
    "name": "ipython",
    "version": 3
   },
   "file_extension": ".py",
   "mimetype": "text/x-python",
   "name": "python",
   "nbconvert_exporter": "python",
   "pygments_lexer": "ipython3",
   "version": "3.7.3"
  }
 },
 "nbformat": 4,
 "nbformat_minor": 2
}
