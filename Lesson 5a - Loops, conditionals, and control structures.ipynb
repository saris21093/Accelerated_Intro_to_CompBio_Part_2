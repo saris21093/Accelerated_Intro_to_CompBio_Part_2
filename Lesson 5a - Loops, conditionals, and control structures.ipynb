{
 "cells": [
  {
   "cell_type": "markdown",
   "metadata": {},
   "source": [
    "# Loops and Control Structures\n",
    "\n",
    "We will study these two topics together, because they are so commonly found in association with one another. Let's say you want to go through your list of students, and only print the names of students older than 25.  How?\n",
    "\n",
    "We will how look at \"iteration\" over both List and Hash data structrues.\n",
    "\n",
    "## Iteration - \"looping\"\n",
    "\n",
    "\"looping\" (iteration) means to do the same thing many times.  Imagine this code:\n",
    "\n",
    "    mylist = [123, 334, 223, 197, 901, 344]\n",
    "    print mylist[0]\n",
    "    print mylist[1]\n",
    "    print mylist[2]\n",
    "    print mylist[3]\n",
    "    print mylist[4]\n",
    "    print mylist[5]\n",
    "\n",
    "Why is this bad? (discuss... there are many reasons!)\n",
    "\n",
    "This is why we need Loops - they \"abstract\" the problem of doing the same thing, on a different value, some arbitrary number of times.\n",
    "\n",
    "### while , for\n",
    "\n",
    "The two basic kinds of iterations are \"while\" and \"for\"\n",
    "\n",
    "* \"while\" means \"while a certain condition is true\"\n",
    "* \"for\" means \"for a certain number of times\"\n",
    "\n",
    "They look like this:\n",
    "\n",
    "    while CONDTION:\n",
    "        do something here\n",
    "        \n",
    "        \n",
    "    for ITERATING:\n",
    "        do something here\n",
    "        \n",
    "Here is an example of while and for loops:\n"
   ]
  },
  {
   "cell_type": "code",
   "execution_count": 1,
   "metadata": {},
   "outputs": [
    {
     "name": "stdout",
     "output_type": "stream",
     "text": [
      "I am still young, at  0\n",
      "I am still young, at  1\n",
      "I am still young, at  2\n",
      "I am still young, at  3\n",
      "I am still young, at  4\n",
      "I am still young, at  5\n",
      "I am still young, at  6\n",
      "I am still young, at  7\n",
      "I am still young, at  8\n",
      "I am still young, at  9\n",
      "I am still young, at  10\n",
      "I am still young, at  11\n",
      "I am still young, at  12\n",
      "I am still young, at  13\n",
      "I am still young, at  14\n",
      "I am still young, at  15\n",
      "I am still young, at  16\n",
      "I am still young, at  17\n",
      "Now that I am  18  I am old!\n"
     ]
    }
   ],
   "source": [
    "myage = 0\n",
    "while myage < 18:   # note the \":\" colon character! \n",
    "    print(\"I am still young, at \", myage)\n",
    "    myage  = myage + 1\n",
    "    #myage+=1\n",
    "    \n",
    "    \n",
    "print(\"Now that I am \", myage, \" I am old!\")"
   ]
  },
  {
   "cell_type": "code",
   "execution_count": 15,
   "metadata": {},
   "outputs": [
    {
     "name": "stdout",
     "output_type": "stream",
     "text": [
      "I am  1  years old\n",
      "I am  2  years old\n",
      "I am  3  years old\n",
      "I am  4  years old\n",
      "I am  5  years old\n",
      "I am  6  years old\n",
      "I am  7  years old\n",
      "I am  8  years old\n",
      "I am  9  years old\n",
      "I am  10  years old\n",
      "I am  11  years old\n",
      "I am  12  years old\n",
      "I am  13  years old\n",
      "I am  14  years old\n",
      "I am  15  years old\n",
      "I am  16  years old\n",
      "I am  17  years old\n",
      "at the end I am  17  years old\n"
     ]
    }
   ],
   "source": [
    "myage = 0\n",
    "for myage in range(1,18):  # note the \":\", and the use of \"in\" to assign the next value to the variable\n",
    "    print(\"I am \", myage, \" years old\")\n",
    "\n",
    "print(\"at the end I am \", myage, \" years old\")"
   ]
  },
  {
   "cell_type": "markdown",
   "metadata": {},
   "source": [
    "## if/else\n",
    "\n",
    "Sometimes, you want to do something if a condition is true, but do something else if the condition is false.  For that, you can use the \"else\" statement.  It looks like this:\n"
   ]
  },
  {
   "cell_type": "code",
   "execution_count": 2,
   "metadata": {},
   "outputs": [
    {
     "name": "stdout",
     "output_type": "stream",
     "text": [
      "I am 1 my age is an odd number\n",
      "I am 2 my age is an even number\n",
      "I am 3 my age is an odd number\n",
      "I am 4 my age is an even number\n",
      "I am 5 my age is an odd number\n",
      "I am 6 my age is an even number\n",
      "I am 7 my age is an odd number\n",
      "I am 8 my age is an even number\n",
      "I am 9 my age is an odd number\n",
      "I am 10 my age is an even number\n",
      "I am 11 my age is an odd number\n",
      "I am 12 my age is an even number\n",
      "I am 13 my age is an odd number\n",
      "I am 14 my age is an even number\n",
      "I am 15 my age is an odd number\n",
      "I am 16 my age is an even number\n",
      "I am 17 my age is an odd number\n"
     ]
    }
   ],
   "source": [
    "myage = 0\n",
    "for myage in range(1,18):  # note the \":\", and the use of \"in\" to assign the next value to the variable\n",
    "    if myage % 2 == 0:   # % is the modulo operator - gives you the remainder when dividing myage by 2\n",
    "                        # note that the comparison operator is \"==\".  IT IS NOT \"=\" (= is used to assign a value!)\n",
    "                        # see end of Lesson 4 to review the comparison and mathematical operators!\n",
    "        print(\"I am\", myage, \"my age is an even number\")\n",
    "    else:\n",
    "        print(\"I am\", myage, \"my age is an odd number\")"
   ]
  },
  {
   "cell_type": "markdown",
   "metadata": {},
   "source": [
    "\n",
    "### More complex condtionals - elif\n",
    "\n",
    "if this, else if (elif) that, else the other thing.\n",
    "\n",
    "you can use as many elif's as you want!\n",
    "\n",
    "<pre>\n",
    "\n",
    "\n",
    "</pre>"
   ]
  },
  {
   "cell_type": "code",
   "execution_count": 2,
   "metadata": {},
   "outputs": [
    {
     "name": "stdout",
     "output_type": "stream",
     "text": [
      "I am 1 my age is an odd number\n",
      "I am 2 my age is divisible by 2\n",
      "I am 3 my age is an odd number\n",
      "I am 4 my age is divisible by BOTH 2 (logical AND!) 4\n",
      "I am 5 my age is an odd number\n",
      "I am 6 my age is divisible by 2\n",
      "I am 7 my age is an odd number\n",
      "I am 8 my age is divisible by BOTH 2 (logical AND!) 4\n",
      "I am 9 my age is an odd number\n",
      "I am 10 my age is divisible by 2\n",
      "I am 11 my age is an odd number\n",
      "I am 12 my age is divisible by BOTH 2 (logical AND!) 4\n",
      "I am 13 my age is an odd number\n",
      "I am 14 my age is divisible by 2\n",
      "I am 15 my age is an odd number\n",
      "I am 16 my age is divisible by BOTH 2 (logical AND!) 4\n",
      "I am 17 my age is an odd number\n"
     ]
    }
   ],
   "source": [
    "myage = 0\n",
    "for myage in range(1,18):  # note the \":\", and the use of \"in\" to assign the next value to the variable\n",
    "    if (myage % 2 == 0)   &   (myage % 4 == 0):\n",
    "        print(\"I am\", myage, \"my age is divisible by BOTH 2 (logical AND!) 4\")\n",
    "    elif myage % 4 == 0:   # note the order of my \"if\" statements... what happens if I switch the %2 and the %4? Try!\n",
    "        print(\"I am\", myage, \"my age is divisible by 4\")\n",
    "    elif myage % 2 == 0:\n",
    "        print(\"I am\", myage, \"my age is divisible by 2\")\n",
    "    else:\n",
    "        print(\"I am\", myage, \"my age is an odd number\")\n",
    "    #con elif no se hacen todos los if, como si en vez de elif fueran if     \n",
    "#NOTE:  this is a surprisingly common interview question for a data scientist!!!!"
   ]
  },
  {
   "cell_type": "markdown",
   "metadata": {},
   "source": [
    "\n",
    "# DANGER!!!!!!!!\n",
    "\n",
    "\n",
    "\n",
    "Note that loops can be dangerous!!  For example, in a \"while\" loop, if the condition is never met, then the loop will never end!  This is an \"infinite loop\", and they can be very very very bad, if your statements are, for example, writing to a file, or interacting with a database!\n",
    "\n",
    "for example (DO NOT TRY THIS!!!!!!!!)\n",
    "\n",
    "    age = 0\n",
    "    while age != 21:  # != \"not equal to\" condition will never be met - our age is always an even number\n",
    "        print(age)\n",
    "        age += 2   # an abbreviation for \"age = age + 2\"\n",
    "        \n",
    "You should always be careful that the condition will be met; however, if you cannot be careful, there is a way to do a \"sanity check\" in your code so that you break the loop under a certain condition.  The command is \"break\", and it also is associated with a conditional phrase:\n",
    "\n",
    "    age = 0\n",
    "    while (age != 21):  # condition will never be met, because our age is always an even number\n",
    "        print(age)\n",
    "        age += 2   # an abbreviation for \"age = age + 2\"\n",
    "        if age > 100:    # set a \"sanity check\"  can't be more than 100!\n",
    "            break\n",
    "\n",
    "---es buena idea siempre poner el brek en los loops"
   ]
  },
  {
   "cell_type": "code",
   "execution_count": 47,
   "metadata": {},
   "outputs": [
    {
     "name": "stdout",
     "output_type": "stream",
     "text": [
      "0\n",
      "2\n",
      "4\n",
      "6\n",
      "8\n",
      "10\n",
      "12\n",
      "14\n",
      "16\n",
      "18\n",
      "20\n",
      "22\n",
      "24\n",
      "26\n",
      "28\n",
      "30\n"
     ]
    }
   ],
   "source": [
    "age = 0\n",
    "while (age != 21):  # this condition will never be met, because our age is always an even number!!!!\n",
    "    print(age)\n",
    "    age += 2   # an abbreviation for \"age = age + 2\"\n",
    "    if age > 30:   # once you are 30, your life has ended... break the loop\n",
    "        break"
   ]
  },
  {
   "cell_type": "markdown",
   "metadata": {},
   "source": [
    "\n",
    "Note that the use of \"break\" can fool you into thinking that everything was OK!  The loop ends, and the program continues to run.... so it isn't PERFECT, but it can at least help minimize damage!\n",
    "\n",
    "A better way do this is to \"raise an exception\" - this allows you to send a message explaining what went wrong.  In this introductory section, we wont discuss the topic of Exceptions beyond the fact that they exist, and are used as follows:\n"
   ]
  },
  {
   "cell_type": "code",
   "execution_count": 8,
   "metadata": {},
   "outputs": [
    {
     "name": "stdout",
     "output_type": "stream",
     "text": [
      "0\n",
      "2\n",
      "4\n",
      "6\n",
      "8\n",
      "10\n",
      "12\n",
      "14\n",
      "16\n",
      "18\n",
      "20\n",
      "22\n",
      "24\n",
      "26\n",
      "28\n",
      "30\n"
     ]
    },
    {
     "ename": "Exception",
     "evalue": "the age became greater than 30, and this should not happen",
     "output_type": "error",
     "traceback": [
      "\u001b[0;31m-----------------------------------------------------------------------\u001b[0m",
      "\u001b[0;31mException\u001b[0m                             Traceback (most recent call last)",
      "\u001b[0;32m<ipython-input-8-47c9737b5b1e>\u001b[0m in \u001b[0;36m<module>\u001b[0;34m()\u001b[0m\n\u001b[1;32m      4\u001b[0m     \u001b[0mage\u001b[0m \u001b[0;34m+=\u001b[0m \u001b[0;36m2\u001b[0m   \u001b[0;31m# an abbreviation for \"age = age + 2\"\u001b[0m\u001b[0;34m\u001b[0m\u001b[0m\n\u001b[1;32m      5\u001b[0m     \u001b[0;32mif\u001b[0m \u001b[0mage\u001b[0m \u001b[0;34m>\u001b[0m \u001b[0;36m30\u001b[0m\u001b[0;34m:\u001b[0m   \u001b[0;31m# once you are 30, your life has ended... break the loop\u001b[0m\u001b[0;34m\u001b[0m\u001b[0m\n\u001b[0;32m----> 6\u001b[0;31m         \u001b[0;32mraise\u001b[0m \u001b[0mException\u001b[0m\u001b[0;34m(\u001b[0m\u001b[0;34m\"the age became greater than 30, and this should not happen\"\u001b[0m\u001b[0;34m)\u001b[0m\u001b[0;34m\u001b[0m\u001b[0m\n\u001b[0m\u001b[1;32m      7\u001b[0m         \u001b[0;32mbreak\u001b[0m\u001b[0;34m\u001b[0m\u001b[0m\n",
      "\u001b[0;31mException\u001b[0m: the age became greater than 30, and this should not happen"
     ]
    }
   ],
   "source": [
    "age = 0\n",
    "while (age != 21):  # this condition will never be met, because our age is always an even number!!!!\n",
    "    print(age)\n",
    "    age += 2   # an abbreviation for \"age = age + 2\"\n",
    "    if age > 30:   # once you are 30, your life has ended... break the loop\n",
    "        raise Exception(\"the age became greater than 30, and this should not happen\")\n",
    "        break"
   ]
  },
  {
   "cell_type": "markdown",
   "metadata": {},
   "source": [
    "# \"Safer\" ways to iterate/loop\n",
    "\n",
    "There are some safe ways to iterate:\n",
    "\n",
    "1. using \"in\" on a list is safer\n",
    "2. using \"in\" on a list index is safer\n",
    "\n",
    "for example:"
   ]
  },
  {
   "cell_type": "code",
   "execution_count": 28,
   "metadata": {},
   "outputs": [
    {
     "name": "stdout",
     "output_type": "stream",
     "text": [
      "student's name is  Mark\n",
      "student's name is  Jonas\n",
      "student's name is  Michele\n",
      "student's name is  Alberto\n",
      "\n",
      "4\n",
      "\n",
      "student # 0 is named Mark\n",
      "student # 1 is named Jonas\n",
      "student # 2 is named Michele\n",
      "student # 3 is named Alberto\n"
     ]
    }
   ],
   "source": [
    "students = [\"Mark\", \"Jonas\", \"Michele\", \"Alberto\"]\n",
    "\n",
    "for name in students:\n",
    "    print(\"student's name is \", name)\n",
    "\n",
    "# you can determine the length of an array using the \"len\" function:\n",
    "print()\n",
    "\n",
    "print( len(students))\n",
    "\n",
    "print()\n",
    "\n",
    "for index in range(len(students)):\n",
    "    print(\"student #\", index, \"is named\", students[index])"
   ]
  },
  {
   "cell_type": "markdown",
   "metadata": {},
   "source": [
    "\n",
    "You can do similar things with Dictionaries.  Often, you will want to separate your data based on the \"keys\" of the Dictionary.  To do this, use the \"keys\" method on your dictionary.  for example:\n",
    "\n",
    "    students = {\"Mark\": 50, \"John\": 45}\n",
    "    print( students.keys() )\n",
    "    "
   ]
  },
  {
   "cell_type": "code",
   "execution_count": 9,
   "metadata": {},
   "outputs": [
    {
     "name": "stdout",
     "output_type": "stream",
     "text": [
      "dict_keys(['Mark', 'John'])\n",
      "dict_values([50, 45])\n"
     ]
    }
   ],
   "source": [
    "students = {\"Mark\": 50, \"John\": 45}\n",
    "print(students.keys())\n",
    "print(students.values())  # this also works if you want to extract all of the values as a list - uncommon...\n"
   ]
  },
  {
   "cell_type": "markdown",
   "metadata": {},
   "source": [
    "\n",
    "Note that the output is telling us that the \"keys\" method returns us an object of type \"dict_keys\"...  I will simply tell you that dict_keys can be used as an iterator (exactly like \"range\" is!).  So you can say:\n"
   ]
  },
  {
   "cell_type": "code",
   "execution_count": 43,
   "metadata": {},
   "outputs": [
    {
     "name": "stdout",
     "output_type": "stream",
     "text": [
      "student named Mark is 50 years old\n",
      "student named John is 45 years old\n"
     ]
    }
   ],
   "source": [
    "students = {\"Mark\": 50, \"John\": 45}\n",
    "\n",
    "for student in students.keys():\n",
    "    print(\"student named\", student, \"is\", students[student], \"years old\")"
   ]
  }
 ],
 "metadata": {
  "kernelspec": {
   "display_name": "Python 3",
   "language": "python",
   "name": "python3"
  },
  "language_info": {
   "codemirror_mode": {
    "name": "ipython",
    "version": 3
   },
   "file_extension": ".py",
   "mimetype": "text/x-python",
   "name": "python",
   "nbconvert_exporter": "python",
   "pygments_lexer": "ipython3",
   "version": "3.7.3"
  }
 },
 "nbformat": 4,
 "nbformat_minor": 2
}
